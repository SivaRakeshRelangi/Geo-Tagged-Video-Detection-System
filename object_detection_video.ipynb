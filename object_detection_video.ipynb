{
  "nbformat": 4,
  "nbformat_minor": 0,
  "metadata": {
    "colab": {
      "provenance": []
    },
    "kernelspec": {
      "name": "python3",
      "display_name": "Python 3"
    },
    "language_info": {
      "name": "python"
    }
  },
  "cells": [
    {
      "cell_type": "markdown",
      "source": [
        "***Setup (Colab) — installs and environment check***"
      ],
      "metadata": {
        "id": "pmlvd2ClVGdn"
      }
    },
    {
      "cell_type": "code",
      "execution_count": 18,
      "metadata": {
        "id": "L-XS1h3fU3nC",
        "colab": {
          "base_uri": "https://localhost:8080/"
        },
        "outputId": "019149ec-9b44-4afd-8157-dc203ae3009e"
      },
      "outputs": [
        {
          "output_type": "stream",
          "name": "stdout",
          "text": [
            "Torch: 2.8.0+cu126 | CUDA available: False\n",
            "Python: 3.12.11\n"
          ]
        }
      ],
      "source": [
        "# Install system OCR tool (Tesseract)\n",
        "!apt-get -y install tesseract-ocr >/dev/null\n",
        "\n",
        "# Install all required Python packages\n",
        "!pip -q install opencv-python pillow pytesseract torch torchvision matplotlib pandas tqdm ultralytics\n",
        "\n",
        "import torch, platform\n",
        "print(\"Torch:\", torch.__version__, \"| CUDA available:\", torch.cuda.is_available())\n",
        "print(\"Python:\", platform.python_version())\n"
      ]
    },
    {
      "cell_type": "markdown",
      "source": [
        "**📦 Library Imports – Load Required Packages**"
      ],
      "metadata": {
        "id": "riG3E9S66wRb"
      }
    },
    {
      "cell_type": "code",
      "source": [
        "# ======= IMPORTS =======\n",
        "from pathlib import Path\n",
        "import cv2\n",
        "import time\n",
        "import os\n",
        "from datetime import timedelta\n",
        "import pandas as pd\n",
        "import pytesseract\n",
        "from tqdm import tqdm\n",
        "from ultralytics import YOLO\n",
        "from PIL import Image"
      ],
      "metadata": {
        "id": "oKE-p-Lkzruq"
      },
      "execution_count": 19,
      "outputs": []
    },
    {
      "cell_type": "markdown",
      "source": [
        "**User Configuration – Set Paths and Parameters**"
      ],
      "metadata": {
        "id": "v2q4K8c_6ozz"
      }
    },
    {
      "cell_type": "code",
      "source": [
        "# ======= USER INPUTS =======\n",
        "VIDEO_PATH  = \"demovidlos.mp4\"  # Set your video file here\n",
        "DESIRED_FPS  = 2.0                     # Desired frames per second\n",
        "IMAGE_PATH   = \"catimage.jpg\"  # <-- give your image path here\n",
        "IMAGE_PATH_For_ocr   = \"ocrtestingimage.png\"   # <-- give your image path here\n",
        "image_path   = \"ocrtestingimage.png\"\n",
        "\n",
        "OUTPUT_VIDEO = \"output_Video_annotated.mp4\"\n",
        "\n",
        "OUTPUT_IMAGE = \"annotated_detected_image.jpg\""
      ],
      "metadata": {
        "id": "Sy0Ce6auzr2X"
      },
      "execution_count": 20,
      "outputs": []
    },
    {
      "cell_type": "markdown",
      "source": [
        "**🎞️ Extract Video Frames + 🧾 Apply OCR + 📁 Save Metadata**"
      ],
      "metadata": {
        "id": "OP1DNzCH67pA"
      }
    },
    {
      "cell_type": "code",
      "source": [
        "# Uncomment and set tesseract path if on Windows\n",
        "# pytesseract.pytesseract.tesseract_cmd = r\"C:\\Users\\sivar\\AppData\\Local\\Programs\\Tesseract-OCR\"\n",
        "\n",
        "# ======= OUTPUT FOLDERS =======\n",
        "OUT_ROOT   = Path(\"/content/dataset_pipeline\")\n",
        "FRAMES_DIR = OUT_ROOT / \"images\"\n",
        "LABELS_DIR = OUT_ROOT / \"labels\"  # Reserved for future use if needed\n",
        "META_CSV   = OUT_ROOT / \"metadata.csv\"\n",
        "\n",
        "for d in [OUT_ROOT, FRAMES_DIR, LABELS_DIR]:\n",
        "    d.mkdir(parents=True, exist_ok=True)\n",
        "\n",
        "print(\"Video:\", VIDEO_PATH)\n",
        "print(\"Output root:\", OUT_ROOT)\n",
        "\n",
        "# ======= FRAME EXTRACTION + OCR (ORIGINAL SHAPE) =======\n",
        "def extract_frames_with_ocr(video_path, out_dir):\n",
        "    \"\"\"\n",
        "    Extract frames every (1 / DESIRED_FPS) seconds at original resolution.\n",
        "    Apply OCR and save metadata (image, timestamp, OCR text).\n",
        "    \"\"\"\n",
        "    cap = cv2.VideoCapture(str(video_path))\n",
        "    if not cap.isOpened():\n",
        "        raise RuntimeError(f\"Cannot open video: {video_path}\")\n",
        "\n",
        "    fps = cap.get(cv2.CAP_PROP_FPS) or 0.0\n",
        "    print(\"Original FPS\",fps)\n",
        "    frames = int(cap.get(cv2.CAP_PROP_FRAME_COUNT)) or 0\n",
        "    duration = (frames / fps) if (fps > 0 and frames > 0) else None\n",
        "\n",
        "    interval = 1.0 / DESIRED_FPS\n",
        "    t = 0.0\n",
        "    rows, saved = [], 0\n",
        "\n",
        "    while True:\n",
        "        if duration is not None and t > duration:\n",
        "            break\n",
        "\n",
        "        cap.set(cv2.CAP_PROP_POS_MSEC, t * 1000.0)\n",
        "        ret, frame = cap.read()\n",
        "        if not ret:\n",
        "            break\n",
        "\n",
        "        fname = f\"sec_{int(round(t * 1000)):010d}.jpg\"\n",
        "        fpath = out_dir / fname\n",
        "        cv2.imwrite(str(fpath), frame)\n",
        "        saved += 1\n",
        "\n",
        "        # Apply OCR to the full frame\n",
        "        gray = cv2.cvtColor(frame, cv2.COLOR_BGR2GRAY)\n",
        "        ocr_text = pytesseract.image_to_string(gray).strip()\n",
        "\n",
        "        rows.append({\n",
        "            \"image\": fname,\n",
        "            \"time_seconds\": round(t, 3),\n",
        "            \"timecode\": str(timedelta(seconds=float(t))),\n",
        "            \"ocr_text\": ocr_text,\n",
        "        })\n",
        "\n",
        "        t += interval\n",
        "\n",
        "    cap.release()\n",
        "\n",
        "    if rows:\n",
        "        pd.DataFrame(rows).to_csv(META_CSV, index=False)\n",
        "\n",
        "    print(f\"✅ Saved {saved} frames → {out_dir}\")\n",
        "    print(f\"📄 Wrote metadata with OCR → {META_CSV}\")\n",
        "\n",
        "# ======= RUN EXTRACTION =======\n",
        "extract_frames_with_ocr(VIDEO_PATH, FRAMES_DIR)\n"
      ],
      "metadata": {
        "colab": {
          "base_uri": "https://localhost:8080/"
        },
        "id": "c_QFBYN_q2Vb",
        "outputId": "de8d9b1e-ff21-443d-fe13-c9bb49a5887b"
      },
      "execution_count": 21,
      "outputs": [
        {
          "output_type": "stream",
          "name": "stdout",
          "text": [
            "Video: demovidlos.mp4\n",
            "Output root: /content/dataset_pipeline\n",
            "Original FPS 23.976023976023978\n",
            "✅ Saved 28 frames → /content/dataset_pipeline/images\n",
            "📄 Wrote metadata with OCR → /content/dataset_pipeline/metadata.csv\n"
          ]
        }
      ]
    },
    {
      "cell_type": "markdown",
      "source": [
        "🧠 Load YOLOv8 Model + 🎥 Define I/O Paths"
      ],
      "metadata": {
        "id": "yRXOZ7x9VAYT"
      }
    },
    {
      "cell_type": "code",
      "source": [
        "# Input/output paths\n",
        "INPUT_VIDEO  = VIDEO_PATH     # <- change this\n",
        "OUTPUT_VIDEO = \"output_video_after_detected.mp4\"\n",
        "\n",
        "# Pick a model (smallest = yolov8n.pt). Others: yolov8s.pt / m / l / x\n",
        "MODEL_NAME = \"yolov8n.pt\"      # downloads automatically on first run\n",
        "\n",
        "model = YOLO(MODEL_NAME)\n"
      ],
      "metadata": {
        "id": "nOjU2FEhs_pe"
      },
      "execution_count": 22,
      "outputs": []
    },
    {
      "cell_type": "markdown",
      "source": [
        "**🎯 Run Object Detection on Image & Video using YOLOv8**"
      ],
      "metadata": {
        "id": "X3xMsKRx7TQO"
      }
    },
    {
      "cell_type": "code",
      "source": [
        "# CPU (no GPU)\n",
        "DEVICE = \"cpu\"\n",
        "\n",
        "# ---------------- LOAD MODEL ----------------\n",
        "model = YOLO(MODEL_NAME)\n",
        "\n",
        "# ---------------- IMAGE DETECTION ----------------\n",
        "def run_image_inference():\n",
        "    if not Path(IMAGE_PATH).exists():\n",
        "        print(f\"[IMAGES] Not found: {IMAGE_PATH}\")\n",
        "        return\n",
        "    res = model.predict(source=IMAGE_PATH, device=DEVICE, verbose=False)[0]\n",
        "    annotated = res.plot()\n",
        "    cv2.imwrite(OUTPUT_IMAGE, annotated)\n",
        "    print(f\"[IMAGES] Saved annotated -> {OUTPUT_IMAGE}\")\n",
        "    for box in res.boxes:\n",
        "        cls_id = int(box.cls[0])\n",
        "        conf   = float(box.conf[0])\n",
        "        x1, y1, x2, y2 = box.xyxy[0].tolist()\n",
        "        print(f\" - {model.names[cls_id]} (conf {conf:.2f}) at [{int(x1)},{int(y1)},{int(x2)},{int(y2)}]\")\n",
        "\n",
        "# ---------------- VIDEO DETECTION ----------------\n",
        "def run_video_inference():\n",
        "    cap = cv2.VideoCapture(INPUT_VIDEO)\n",
        "    if not cap.isOpened():\n",
        "        print(f\"[VIDEO] Could not open {INPUT_VIDEO}\")\n",
        "        return\n",
        "\n",
        "    fps    = cap.get(cv2.CAP_PROP_FPS) or 30.0\n",
        "    width  = int(cap.get(cv2.CAP_PROP_FRAME_WIDTH))\n",
        "    height = int(cap.get(cv2.CAP_PROP_FRAME_HEIGHT))\n",
        "    total  = int(cap.get(cv2.CAP_PROP_FRAME_COUNT)) or 0\n",
        "\n",
        "    out = cv2.VideoWriter(\n",
        "        OUTPUT_VIDEO, cv2.VideoWriter_fourcc(*\"mp4v\"), fps, (width, height)\n",
        "    )\n",
        "\n",
        "    pbar   = tqdm(total=total if total > 0 else None, desc=\"Video\")\n",
        "    frame_idx = 0\n",
        "    t0 = time.time()\n",
        "\n",
        "    while True:\n",
        "        ok, frame = cap.read()\n",
        "        if not ok:\n",
        "            break\n",
        "        res = model.predict(source=frame, device=DEVICE, verbose=False)[0]\n",
        "        annotated = res.plot()\n",
        "        out.write(annotated)\n",
        "        frame_idx += 1\n",
        "        pbar.update(1)\n",
        "\n",
        "    cap.release()\n",
        "    out.release()\n",
        "    pbar.close()\n",
        "\n",
        "    elapsed = time.time() - t0\n",
        "    print(f\"[VIDEO] Saved -> {OUTPUT_VIDEO} | Frames: {frame_idx} | Avg FPS: {frame_idx/max(elapsed,1e-6):.2f}\")\n",
        "\n",
        "# ---------------- RUN BOTH ----------------\n",
        "if __name__ == \"__main__\":\n",
        "    run_image_inference()\n",
        "    run_video_inference()\n",
        "    print(\"✅ Done\")\n"
      ],
      "metadata": {
        "colab": {
          "base_uri": "https://localhost:8080/"
        },
        "id": "HNEQGyEF1QId",
        "outputId": "9952d36e-44ca-45a5-ebb4-35111d726353"
      },
      "execution_count": 23,
      "outputs": [
        {
          "output_type": "stream",
          "name": "stdout",
          "text": [
            "[IMAGES] Saved annotated -> annotated_detected_image.jpg\n",
            " - cat (conf 0.89) at [162,13,453,211]\n"
          ]
        },
        {
          "output_type": "stream",
          "name": "stderr",
          "text": [
            "Video: 100%|██████████| 332/332 [00:52<00:00,  6.31it/s]"
          ]
        },
        {
          "output_type": "stream",
          "name": "stdout",
          "text": [
            "[VIDEO] Saved -> output_video_after_detected.mp4 | Frames: 332 | Avg FPS: 6.31\n",
            "✅ Done\n"
          ]
        },
        {
          "output_type": "stream",
          "name": "stderr",
          "text": [
            "\n"
          ]
        }
      ]
    },
    {
      "cell_type": "markdown",
      "source": [
        "**📤 Upload an Image File from Your Local Device**"
      ],
      "metadata": {
        "id": "Z6RBfSRp7lMM"
      }
    },
    {
      "cell_type": "code",
      "source": [
        "from google.colab import files\n",
        "\n",
        "# Upload image file (png, jpg, etc.)\n",
        "uploaded = files.upload()\n",
        "image_path = list(uploaded.keys())[0]  # Take first uploaded file\n",
        "print(\"Uploaded:\", image_path)\n"
      ],
      "metadata": {
        "id": "xpZsZUEKs_Id",
        "colab": {
          "base_uri": "https://localhost:8080/",
          "height": 90
        },
        "outputId": "4f93ca7f-ba55-46c6-83be-b04478f0819f"
      },
      "execution_count": 26,
      "outputs": [
        {
          "output_type": "display_data",
          "data": {
            "text/plain": [
              "<IPython.core.display.HTML object>"
            ],
            "text/html": [
              "\n",
              "     <input type=\"file\" id=\"files-64620aa0-0d5b-4bc1-a287-e2f3d6dac1b2\" name=\"files[]\" multiple disabled\n",
              "        style=\"border:none\" />\n",
              "     <output id=\"result-64620aa0-0d5b-4bc1-a287-e2f3d6dac1b2\">\n",
              "      Upload widget is only available when the cell has been executed in the\n",
              "      current browser session. Please rerun this cell to enable.\n",
              "      </output>\n",
              "      <script>// Copyright 2017 Google LLC\n",
              "//\n",
              "// Licensed under the Apache License, Version 2.0 (the \"License\");\n",
              "// you may not use this file except in compliance with the License.\n",
              "// You may obtain a copy of the License at\n",
              "//\n",
              "//      http://www.apache.org/licenses/LICENSE-2.0\n",
              "//\n",
              "// Unless required by applicable law or agreed to in writing, software\n",
              "// distributed under the License is distributed on an \"AS IS\" BASIS,\n",
              "// WITHOUT WARRANTIES OR CONDITIONS OF ANY KIND, either express or implied.\n",
              "// See the License for the specific language governing permissions and\n",
              "// limitations under the License.\n",
              "\n",
              "/**\n",
              " * @fileoverview Helpers for google.colab Python module.\n",
              " */\n",
              "(function(scope) {\n",
              "function span(text, styleAttributes = {}) {\n",
              "  const element = document.createElement('span');\n",
              "  element.textContent = text;\n",
              "  for (const key of Object.keys(styleAttributes)) {\n",
              "    element.style[key] = styleAttributes[key];\n",
              "  }\n",
              "  return element;\n",
              "}\n",
              "\n",
              "// Max number of bytes which will be uploaded at a time.\n",
              "const MAX_PAYLOAD_SIZE = 100 * 1024;\n",
              "\n",
              "function _uploadFiles(inputId, outputId) {\n",
              "  const steps = uploadFilesStep(inputId, outputId);\n",
              "  const outputElement = document.getElementById(outputId);\n",
              "  // Cache steps on the outputElement to make it available for the next call\n",
              "  // to uploadFilesContinue from Python.\n",
              "  outputElement.steps = steps;\n",
              "\n",
              "  return _uploadFilesContinue(outputId);\n",
              "}\n",
              "\n",
              "// This is roughly an async generator (not supported in the browser yet),\n",
              "// where there are multiple asynchronous steps and the Python side is going\n",
              "// to poll for completion of each step.\n",
              "// This uses a Promise to block the python side on completion of each step,\n",
              "// then passes the result of the previous step as the input to the next step.\n",
              "function _uploadFilesContinue(outputId) {\n",
              "  const outputElement = document.getElementById(outputId);\n",
              "  const steps = outputElement.steps;\n",
              "\n",
              "  const next = steps.next(outputElement.lastPromiseValue);\n",
              "  return Promise.resolve(next.value.promise).then((value) => {\n",
              "    // Cache the last promise value to make it available to the next\n",
              "    // step of the generator.\n",
              "    outputElement.lastPromiseValue = value;\n",
              "    return next.value.response;\n",
              "  });\n",
              "}\n",
              "\n",
              "/**\n",
              " * Generator function which is called between each async step of the upload\n",
              " * process.\n",
              " * @param {string} inputId Element ID of the input file picker element.\n",
              " * @param {string} outputId Element ID of the output display.\n",
              " * @return {!Iterable<!Object>} Iterable of next steps.\n",
              " */\n",
              "function* uploadFilesStep(inputId, outputId) {\n",
              "  const inputElement = document.getElementById(inputId);\n",
              "  inputElement.disabled = false;\n",
              "\n",
              "  const outputElement = document.getElementById(outputId);\n",
              "  outputElement.innerHTML = '';\n",
              "\n",
              "  const pickedPromise = new Promise((resolve) => {\n",
              "    inputElement.addEventListener('change', (e) => {\n",
              "      resolve(e.target.files);\n",
              "    });\n",
              "  });\n",
              "\n",
              "  const cancel = document.createElement('button');\n",
              "  inputElement.parentElement.appendChild(cancel);\n",
              "  cancel.textContent = 'Cancel upload';\n",
              "  const cancelPromise = new Promise((resolve) => {\n",
              "    cancel.onclick = () => {\n",
              "      resolve(null);\n",
              "    };\n",
              "  });\n",
              "\n",
              "  // Wait for the user to pick the files.\n",
              "  const files = yield {\n",
              "    promise: Promise.race([pickedPromise, cancelPromise]),\n",
              "    response: {\n",
              "      action: 'starting',\n",
              "    }\n",
              "  };\n",
              "\n",
              "  cancel.remove();\n",
              "\n",
              "  // Disable the input element since further picks are not allowed.\n",
              "  inputElement.disabled = true;\n",
              "\n",
              "  if (!files) {\n",
              "    return {\n",
              "      response: {\n",
              "        action: 'complete',\n",
              "      }\n",
              "    };\n",
              "  }\n",
              "\n",
              "  for (const file of files) {\n",
              "    const li = document.createElement('li');\n",
              "    li.append(span(file.name, {fontWeight: 'bold'}));\n",
              "    li.append(span(\n",
              "        `(${file.type || 'n/a'}) - ${file.size} bytes, ` +\n",
              "        `last modified: ${\n",
              "            file.lastModifiedDate ? file.lastModifiedDate.toLocaleDateString() :\n",
              "                                    'n/a'} - `));\n",
              "    const percent = span('0% done');\n",
              "    li.appendChild(percent);\n",
              "\n",
              "    outputElement.appendChild(li);\n",
              "\n",
              "    const fileDataPromise = new Promise((resolve) => {\n",
              "      const reader = new FileReader();\n",
              "      reader.onload = (e) => {\n",
              "        resolve(e.target.result);\n",
              "      };\n",
              "      reader.readAsArrayBuffer(file);\n",
              "    });\n",
              "    // Wait for the data to be ready.\n",
              "    let fileData = yield {\n",
              "      promise: fileDataPromise,\n",
              "      response: {\n",
              "        action: 'continue',\n",
              "      }\n",
              "    };\n",
              "\n",
              "    // Use a chunked sending to avoid message size limits. See b/62115660.\n",
              "    let position = 0;\n",
              "    do {\n",
              "      const length = Math.min(fileData.byteLength - position, MAX_PAYLOAD_SIZE);\n",
              "      const chunk = new Uint8Array(fileData, position, length);\n",
              "      position += length;\n",
              "\n",
              "      const base64 = btoa(String.fromCharCode.apply(null, chunk));\n",
              "      yield {\n",
              "        response: {\n",
              "          action: 'append',\n",
              "          file: file.name,\n",
              "          data: base64,\n",
              "        },\n",
              "      };\n",
              "\n",
              "      let percentDone = fileData.byteLength === 0 ?\n",
              "          100 :\n",
              "          Math.round((position / fileData.byteLength) * 100);\n",
              "      percent.textContent = `${percentDone}% done`;\n",
              "\n",
              "    } while (position < fileData.byteLength);\n",
              "  }\n",
              "\n",
              "  // All done.\n",
              "  yield {\n",
              "    response: {\n",
              "      action: 'complete',\n",
              "    }\n",
              "  };\n",
              "}\n",
              "\n",
              "scope.google = scope.google || {};\n",
              "scope.google.colab = scope.google.colab || {};\n",
              "scope.google.colab._files = {\n",
              "  _uploadFiles,\n",
              "  _uploadFilesContinue,\n",
              "};\n",
              "})(self);\n",
              "</script> "
            ]
          },
          "metadata": {}
        },
        {
          "output_type": "stream",
          "name": "stdout",
          "text": [
            "Saving ocrtestingimage.png to ocrtestingimage (1).png\n",
            "Uploaded: ocrtestingimage (1).png\n"
          ]
        }
      ]
    },
    {
      "cell_type": "markdown",
      "source": [
        "**🔍 Perform OCR on Uploaded Image & 💾 Save Extracted Text**"
      ],
      "metadata": {
        "id": "6KLz-tuq7sBW"
      }
    },
    {
      "cell_type": "code",
      "source": [
        "\n",
        "# Open image\n",
        "\n",
        "img = Image.open(image_path)\n",
        "\n",
        "# Extract text\n",
        "text = pytesseract.image_to_string(img, lang=\"eng\")\n",
        "\n",
        "# Save text to file\n",
        "out_txt = Path(image_path).with_suffix(\".txt\")\n",
        "out_txt.write_text(text, encoding=\"utf-8\")\n",
        "\n",
        "print(\"✅ OCR complete. Saved text to:\", out_txt)\n",
        "print(\"\\n--- Extracted Text ---\\n\")\n",
        "print(text)\n"
      ],
      "metadata": {
        "colab": {
          "base_uri": "https://localhost:8080/"
        },
        "id": "XoBjuPXk3Ql8",
        "outputId": "00994ea3-a83a-4fbc-c0fe-10a94ceed9a6"
      },
      "execution_count": 25,
      "outputs": [
        {
          "output_type": "stream",
          "name": "stdout",
          "text": [
            "✅ OCR complete. Saved text to: ocrtestingimage.txt\n",
            "\n",
            "--- Extracted Text ---\n",
            "\n",
            "rt cv2\n",
            "\n",
            "<M\n",
            "\n",
            "_ It was the best of\n",
            "\n",
            ": times, it was the worst\n",
            "\n",
            "of times, it was the age\n",
            "of wisdom, it was the\n",
            "age of foolishness...\n",
            "\n",
            " \n",
            "\n",
            " \n",
            "\n",
            " \n",
            "\n",
            " \n",
            "\f\n"
          ]
        }
      ]
    },
    {
      "cell_type": "code",
      "source": [
        "cap = cv2.VideoCapture(INPUT_VIDEO)\n",
        "if not cap.isOpened():\n",
        "    raise RuntimeError(f\"Could not open {INPUT_VIDEO}\")\n",
        "\n",
        "# Get video properties\n",
        "fps     = cap.get(cv2.CAP_PROP_FPS) or 30.0\n",
        "width   = int(cap.get(cv2.CAP_PROP_FRAME_WIDTH))\n",
        "height  = int(cap.get(cv2.CAP_PROP_FRAME_HEIGHT))\n",
        "length  = int(cap.get(cv2.CAP_PROP_FRAME_COUNT))\n",
        "\n",
        "# Video writer\n",
        "fourcc = cv2.VideoWriter_fourcc(*\"mp4v\")\n",
        "out    = cv2.VideoWriter(OUTPUT_VIDEO, fourcc, fps, (width, height))\n",
        "\n",
        "# Process\n",
        "pbar = tqdm(total=length if length > 0 else None, desc=\"Processing\")\n",
        "frame_idx = 0\n",
        "t0 = time.time()\n",
        "\n",
        "while True:\n",
        "    ret, frame = cap.read()\n",
        "    if not ret:\n",
        "        break\n",
        "\n",
        "    # Inference (you can set conf, iou, device=\"0\" for GPU, etc.)\n",
        "    results = model.predict(source=frame, conf=0.25, iou=0.45, verbose=False)\n",
        "    # results is a list; get first result and draw\n",
        "    annotated = results[0].plot()  # draws boxes, labels, confidences\n",
        "\n",
        "    out.write(annotated)\n",
        "\n",
        "    frame_idx += 1\n",
        "    pbar.update(1)\n",
        "\n",
        "cap.release()\n",
        "out.release()\n",
        "pbar.close()\n",
        "\n",
        "elapsed = time.time() - t0\n",
        "print(f\"Saved: {OUTPUT_VIDEO} | Frames: {frame_idx} | Avg FPS: {frame_idx/max(elapsed,1e-6):.2f}\")\n"
      ],
      "metadata": {
        "id": "RT4oni0M3Qdq"
      },
      "execution_count": null,
      "outputs": []
    }
  ]
}